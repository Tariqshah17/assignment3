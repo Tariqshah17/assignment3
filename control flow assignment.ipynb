{
 "cells": [
  {
   "cell_type": "code",
   "execution_count": 1,
   "id": "0341ec30-f134-4e87-87a5-8487306c5c2d",
   "metadata": {},
   "outputs": [
    {
     "name": "stdin",
     "output_type": "stream",
     "text": [
      "Enter a number:  23\n"
     ]
    },
    {
     "name": "stdout",
     "output_type": "stream",
     "text": [
      "The number is positive.\n"
     ]
    }
   ],
   "source": [
    "# Write a Python program to check if a given number is positive or negative:\n",
    "num = float(input(\"Enter a number: \"))\n",
    "\n",
    "if num > 0:\n",
    "    print(\"The number is positive.\")\n",
    "elif num < 0:\n",
    "    print(\"The number is negative.\")\n",
    "else:\n",
    "    print(\"The number is zero.\")\n"
   ]
  },
  {
   "cell_type": "code",
   "execution_count": 2,
   "id": "42a19e43-d0f6-476b-b9a7-da006b655c0e",
   "metadata": {},
   "outputs": [
    {
     "name": "stdin",
     "output_type": "stream",
     "text": [
      "Enter your age:  34\n"
     ]
    },
    {
     "name": "stdout",
     "output_type": "stream",
     "text": [
      "You are eligible to vote.\n"
     ]
    }
   ],
   "source": [
    "# Create a program that determines if a person is eligible to vote based on their age:\n",
    "age = int(input(\"Enter your age: \"))\n",
    "\n",
    "if age >= 18:\n",
    "    print(\"You are eligible to vote.\")\n",
    "else:\n",
    "    print(\"You are not eligible to vote.\")\n"
   ]
  },
  {
   "cell_type": "code",
   "execution_count": 3,
   "id": "426e9f53-3d79-4d72-8c33-5d6f040bea99",
   "metadata": {},
   "outputs": [
    {
     "name": "stdin",
     "output_type": "stream",
     "text": [
      "Enter the first number:  33\n",
      "Enter the second number:  23\n"
     ]
    },
    {
     "name": "stdout",
     "output_type": "stream",
     "text": [
      "The maximum number is: 33.0\n"
     ]
    }
   ],
   "source": [
    "#. Develop a program to find the maximum of two numbers using if-else statements:\n",
    "num1 = float(input(\"Enter the first number: \"))\n",
    "num2 = float(input(\"Enter the second number: \"))\n",
    "\n",
    "if num1 > num2:\n",
    "    print(\"The maximum number is:\", num1)\n",
    "else:\n",
    "    print(\"The maximum number is:\", num2)\n"
   ]
  },
  {
   "cell_type": "code",
   "execution_count": 4,
   "id": "84467f8a-4286-49db-9cce-3e328788ecd5",
   "metadata": {},
   "outputs": [
    {
     "name": "stdin",
     "output_type": "stream",
     "text": [
      "Enter a year:  2003\n"
     ]
    },
    {
     "name": "stdout",
     "output_type": "stream",
     "text": [
      "2003 is not a leap year.\n"
     ]
    }
   ],
   "source": [
    "# Write a Python script to classify a given year as a leap year or not:\n",
    "year = int(input(\"Enter a year: \"))\n",
    "\n",
    "if (year % 4 == 0 and year % 100 != 0) or (year % 400 == 0):\n",
    "    print(year, \"is a leap year.\")\n",
    "else:\n",
    "    print(year, \"is not a leap year.\")\n"
   ]
  },
  {
   "cell_type": "code",
   "execution_count": 5,
   "id": "9c0c6755-412f-44e7-b773-cffde14f9011",
   "metadata": {},
   "outputs": [
    {
     "name": "stdin",
     "output_type": "stream",
     "text": [
      "Enter a character:  were\n"
     ]
    },
    {
     "name": "stdout",
     "output_type": "stream",
     "text": [
      "were is a consonant.\n"
     ]
    }
   ],
   "source": [
    "#. Create a program that checks whether a character is a vowel or a consonant:\n",
    "char = input(\"Enter a character: \")\n",
    "\n",
    "if char.lower() in 'aeiou':\n",
    "    print(char, \"is a vowel.\")\n",
    "else:\n",
    "    print(char, \"is a consonant.\")\n"
   ]
  },
  {
   "cell_type": "code",
   "execution_count": 6,
   "id": "e11e1eaf-481c-45a5-a599-a48352daeeb7",
   "metadata": {},
   "outputs": [
    {
     "name": "stdin",
     "output_type": "stream",
     "text": [
      "Enter a number:  23\n"
     ]
    },
    {
     "name": "stdout",
     "output_type": "stream",
     "text": [
      "23 is odd.\n"
     ]
    }
   ],
   "source": [
    "#Implement a program to determine whether a given number is even or odd:\n",
    "num = int(input(\"Enter a number: \"))\n",
    "\n",
    "if num % 2 == 0:\n",
    "    print(num, \"is even.\")\n",
    "else:\n",
    "    print(num, \"is odd.\")\n"
   ]
  },
  {
   "cell_type": "code",
   "execution_count": 7,
   "id": "d7fb6f13-75b3-4072-b50b-e1b7c819fd2a",
   "metadata": {},
   "outputs": [
    {
     "name": "stdin",
     "output_type": "stream",
     "text": [
      "Enter a number:  23\n"
     ]
    },
    {
     "name": "stdout",
     "output_type": "stream",
     "text": [
      "The absolute value of 23.0 is 23.0\n"
     ]
    }
   ],
   "source": [
    "# Write a Python function to calculate the absolute value of a number without using the abs() function:\n",
    "def absolute_value(num):\n",
    "    if num < 0:\n",
    "        return -num\n",
    "    else:\n",
    "        return num\n",
    "\n",
    "num = float(input(\"Enter a number: \"))\n",
    "result = absolute_value(num)\n",
    "\n",
    "print(\"The absolute value of\", num, \"is\", result)\n"
   ]
  },
  {
   "cell_type": "code",
   "execution_count": 8,
   "id": "cc0880f0-5ec0-46e5-8ebb-2074dc70fc1a",
   "metadata": {},
   "outputs": [
    {
     "name": "stdin",
     "output_type": "stream",
     "text": [
      "Enter the first number:  22\n",
      "Enter the second number:  21\n",
      "Enter the third number:  2\n"
     ]
    },
    {
     "name": "stdout",
     "output_type": "stream",
     "text": [
      "The largest number is: 22.0\n"
     ]
    }
   ],
   "source": [
    "# Develop a program that determines the largest of three given numbers using if-else statements:\n",
    "num1 = float(input(\"Enter the first number: \"))\n",
    "num2 = float(input(\"Enter the second number: \"))\n",
    "num3 = float(input(\"Enter the third number: \"))\n",
    "\n",
    "if num1 >= num2 and num1 >= num3:\n",
    "    print(\"The largest number is:\", num1)\n",
    "elif num2 >= num1 and num2 >= num3:\n",
    "    print(\"The largest number is:\", num2)\n",
    "else:\n",
    "    print(\"The largest number is:\", num3)\n"
   ]
  },
  {
   "cell_type": "code",
   "execution_count": 9,
   "id": "d694bc87-a54f-4d42-8a16-fdfac9f877be",
   "metadata": {},
   "outputs": [
    {
     "name": "stdin",
     "output_type": "stream",
     "text": [
      "Enter a string:  abc\n"
     ]
    },
    {
     "name": "stdout",
     "output_type": "stream",
     "text": [
      "The string is not a palindrome.\n"
     ]
    }
   ],
   "source": [
    "#. Create a program that checks if a given string is a palindrome:\n",
    "string = input(\"Enter a string: \")\n",
    "\n",
    "if string == string[::-1]:\n",
    "    print(\"The string is a palindrome.\")\n",
    "else:\n",
    "    print(\"The string is not a palindrome.\")\n"
   ]
  },
  {
   "cell_type": "code",
   "execution_count": 10,
   "id": "597158f5-635c-4438-b55a-9c55511a27c7",
   "metadata": {},
   "outputs": [
    {
     "name": "stdin",
     "output_type": "stream",
     "text": [
      "Enter the student's score:  81\n"
     ]
    },
    {
     "name": "stdout",
     "output_type": "stream",
     "text": [
      "The student's grade is: B\n"
     ]
    }
   ],
   "source": [
    "# Write a Python program to calculate the grade based on a student's score:\n",
    "score = float(input(\"Enter the student's score: \"))\n",
    "\n",
    "if score >= 90:\n",
    "    grade = 'A'\n",
    "elif score >= 80:\n",
    "    grade = 'B'\n",
    "elif score >= 70:\n",
    "    grade = 'C'\n",
    "elif score >= 60:\n",
    "    grade = 'D'\n",
    "else:\n",
    "    grade = 'F'\n",
    "\n",
    "print(\"The student's grade is:\", grade)\n"
   ]
  },
  {
   "cell_type": "code",
   "execution_count": 11,
   "id": "1af7117c-277c-4882-bdc5-ae7b3cef1a8b",
   "metadata": {},
   "outputs": [
    {
     "name": "stdin",
     "output_type": "stream",
     "text": [
      "Enter the first number:  23\n",
      "Enter the second number:  32\n",
      "Enter the third number:  41\n"
     ]
    },
    {
     "name": "stdout",
     "output_type": "stream",
     "text": [
      "The largest number among the three is: 41.0\n"
     ]
    }
   ],
   "source": [
    "# Write a program to find the largest among three numbers using nested if-else statements:\n",
    "num1 = float(input(\"Enter the first number: \"))\n",
    "num2 = float(input(\"Enter the second number: \"))\n",
    "num3 = float(input(\"Enter the third number: \"))\n",
    "\n",
    "if num1 >= num2:\n",
    "    if num1 >= num3:\n",
    "        largest = num1\n",
    "    else:\n",
    "        largest = num3\n",
    "else:\n",
    "    if num2 >= num3:\n",
    "        largest = num2\n",
    "    else:\n",
    "        largest = num3\n",
    "\n",
    "print(\"The largest number among the three is:\", largest)\n"
   ]
  },
  {
   "cell_type": "code",
   "execution_count": 12,
   "id": "fa45678e-92e3-4be8-8fc2-29a82ff0ddba",
   "metadata": {},
   "outputs": [
    {
     "name": "stdin",
     "output_type": "stream",
     "text": [
      "Enter the length of the first side:  22\n",
      "Enter the length of the second side:  21\n",
      "Enter the length of the third side:  22\n"
     ]
    },
    {
     "name": "stdout",
     "output_type": "stream",
     "text": [
      "The triangle is isosceles.\n"
     ]
    }
   ],
   "source": [
    "# Implement a program to determine if a triangle is equilateral, isosceles, or scalene:\n",
    "side1 = float(input(\"Enter the length of the first side: \"))\n",
    "side2 = float(input(\"Enter the length of the second side: \"))\n",
    "side3 = float(input(\"Enter the length of the third side: \"))\n",
    "\n",
    "if side1 == side2 == side3:\n",
    "    triangle_type = \"equilateral\"\n",
    "elif side1 == side2 or side1 == side3 or side2 == side3:\n",
    "    triangle_type = \"isosceles\"\n",
    "else:\n",
    "    triangle_type = \"scalene\"\n",
    "\n",
    "print(\"The triangle is\", triangle_type + \".\")\n"
   ]
  },
  {
   "cell_type": "code",
   "execution_count": 13,
   "id": "492eaf08-39c2-4e3c-baa0-e3d9bf48f221",
   "metadata": {},
   "outputs": [
    {
     "name": "stdin",
     "output_type": "stream",
     "text": [
      "Enter a year:  2000\n"
     ]
    },
    {
     "name": "stdout",
     "output_type": "stream",
     "text": [
      "2000 is a leap year: True\n",
      "2000 is a century year: True\n"
     ]
    }
   ],
   "source": [
    "# Develop a program that checks if a year is a leap year and also if it is a century year:\n",
    "year = int(input(\"Enter a year: \"))\n",
    "\n",
    "if (year % 4 == 0 and year % 100 != 0) or (year % 400 == 0):\n",
    "    leap_year = True\n",
    "else:\n",
    "    leap_year = False\n",
    "\n",
    "if year % 100 == 0:\n",
    "    century_year = True\n",
    "else:\n",
    "    century_year = False\n",
    "\n",
    "print(year, \"is a leap year:\", leap_year)\n",
    "print(year, \"is a century year:\", century_year)\n"
   ]
  },
  {
   "cell_type": "code",
   "execution_count": 14,
   "id": "5f4f7497-0530-42a8-a0a4-468ad5b22bce",
   "metadata": {},
   "outputs": [
    {
     "name": "stdin",
     "output_type": "stream",
     "text": [
      "Enter a number:  22\n"
     ]
    },
    {
     "name": "stdout",
     "output_type": "stream",
     "text": [
      "The number is positive.\n"
     ]
    }
   ],
   "source": [
    "# Write a Python script to determine if a number is positive, negative, or zero:\n",
    "num = float(input(\"Enter a number: \"))\n",
    "\n",
    "if num > 0:\n",
    "    print(\"The number is positive.\")\n",
    "elif num < 0:\n",
    "    print(\"The number is negative.\")\n",
    "else:\n",
    "    print(\"The number is zero.\")\n"
   ]
  },
  {
   "cell_type": "code",
   "execution_count": 15,
   "id": "f6b73cad-5b1b-4c42-89ca-6896b0790d09",
   "metadata": {},
   "outputs": [
    {
     "name": "stdin",
     "output_type": "stream",
     "text": [
      "Enter your age:  22\n"
     ]
    },
    {
     "name": "stdout",
     "output_type": "stream",
     "text": [
      "You are not a teenager.\n"
     ]
    }
   ],
   "source": [
    "# Create a program to check if a person is a teenager (between 13 and 19 years old):\n",
    "age = int(input(\"Enter your age: \"))\n",
    "\n",
    "if 13 <= age <= 19:\n",
    "    print(\"You are a teenager.\")\n",
    "else:\n",
    "    print(\"You are not a teenager.\")\n",
    "\n"
   ]
  },
  {
   "cell_type": "code",
   "execution_count": 16,
   "id": "210a8b27-2d26-4ca7-bcd2-95ad5ff0876a",
   "metadata": {},
   "outputs": [
    {
     "name": "stdin",
     "output_type": "stream",
     "text": [
      "Enter the measure of the angle in degrees:  90\n"
     ]
    },
    {
     "name": "stdout",
     "output_type": "stream",
     "text": [
      "The angle is right.\n"
     ]
    }
   ],
   "source": [
    "#Develop a program that determines the type of angle based on its measure (acute, obtuse, or right):\n",
    "angle = float(input(\"Enter the measure of the angle in degrees: \"))\n",
    "\n",
    "if angle < 90:\n",
    "    angle_type = \"acute\"\n",
    "elif angle == 90:\n",
    "    angle_type = \"right\"\n",
    "else:\n",
    "    angle_type = \"obtuse\"\n",
    "\n",
    "print(\"The angle is\", angle_type + \".\")\n"
   ]
  },
  {
   "cell_type": "code",
   "execution_count": 17,
   "id": "329159f7-d17c-4182-b310-d8ee193e6891",
   "metadata": {},
   "outputs": [
    {
     "name": "stdin",
     "output_type": "stream",
     "text": [
      "Enter the coefficient 'a':  1\n",
      "Enter the coefficient 'b':  23\n",
      "Enter the coefficient 'c':  3\n"
     ]
    },
    {
     "name": "stdout",
     "output_type": "stream",
     "text": [
      "Roots are real and distinct.\n",
      "Root 1: -0.13118299909792697\n",
      "Root 2: -22.868817000902073\n"
     ]
    }
   ],
   "source": [
    "# Write a Python program to calculate the roots of a quadratic equation:\n",
    "import math\n",
    "\n",
    "a = float(input(\"Enter the coefficient 'a': \"))\n",
    "b = float(input(\"Enter the coefficient 'b': \"))\n",
    "c = float(input(\"Enter the coefficient 'c': \"))\n",
    "\n",
    "discriminant = b**2 - 4*a*c\n",
    "\n",
    "if discriminant > 0:\n",
    "    root1 = (-b + math.sqrt(discriminant)) / (2*a)\n",
    "    root2 = (-b - math.sqrt(discriminant)) / (2*a)\n",
    "    print(\"Roots are real and distinct.\")\n",
    "    print(\"Root 1:\", root1)\n",
    "    print(\"Root 2:\", root2)\n",
    "elif discriminant == 0:\n",
    "    root1 = -b / (2*a)\n",
    "    print(\"Roots are real and equal.\")\n",
    "    print(\"Root:\", root1)\n",
    "else:\n",
    "    real_part = -b / (2*a)\n",
    "    imaginary_part = math.sqrt(-discriminant) / (2*a)\n",
    "    print(\"Roots are complex.\")\n",
    "    print(\"Root 1:\", real_part, \"+\", imaginary_part, \"i\")\n",
    "    print(\"Root 2:\", real_part, \"-\", imaginary_part, \"i\")\n"
   ]
  },
  {
   "cell_type": "code",
   "execution_count": 18,
   "id": "54e19742-e90f-43b4-8161-e23e999c6ffe",
   "metadata": {},
   "outputs": [
    {
     "name": "stdin",
     "output_type": "stream",
     "text": [
      "Enter a number (1-7) to represent a day of the week:  1\n"
     ]
    },
    {
     "name": "stdout",
     "output_type": "stream",
     "text": [
      "The day is: Monday\n"
     ]
    }
   ],
   "source": [
    "# Implement a program to determine the day of the week based on a user-provided number (1 for Monday, 2 for Tuesday, etc.):,\n",
    "day_number = int(input(\"Enter a number (1-7) to represent a day of the week: \"))\n",
    "\n",
    "if day_number == 1:\n",
    "    day = \"Monday\"\n",
    "elif day_number == 2:\n",
    "    day = \"Tuesday\"\n",
    "elif day_number == 3:\n",
    "    day = \"Wednesday\"\n",
    "elif day_number == 4:\n",
    "    day = \"Thursday\"\n",
    "elif day_number == 5:\n",
    "    day = \"Friday\"\n",
    "elif day_number == 6:\n",
    "    day = \"Saturday\"\n",
    "elif day_number == 7:\n",
    "    day = \"Sunday\"\n",
    "else:\n",
    "    day = \"Invalid\"\n",
    "\n",
    "print(\"The day is:\", day)\n"
   ]
  },
  {
   "cell_type": "code",
   "execution_count": 19,
   "id": "4130bc43-a521-46f1-b6be-7462a665da40",
   "metadata": {},
   "outputs": [
    {
     "name": "stdin",
     "output_type": "stream",
     "text": [
      "Enter a year:  2021\n"
     ]
    },
    {
     "name": "stdout",
     "output_type": "stream",
     "text": [
      "2021 is a leap year: False\n",
      "2021 is evenly divisible by 400: False\n"
     ]
    }
   ],
   "source": [
    "# Create a program that determines if a year is a leap year and also if it is evenly divisible by 400:\n",
    "year = int(input(\"Enter a year: \"))\n",
    "\n",
    "if (year % 4 == 0 and year % 100 != 0) or (year % 400 == 0):\n",
    "    leap_year = True\n",
    "else:\n",
    "    leap_year = False\n",
    "\n",
    "if year % 400 == 0:\n",
    "    divisible_by_400 = True\n",
    "else:\n",
    "    divisible_by_400 = False\n",
    "\n",
    "print(year, \"is a leap year:\", leap_year)\n",
    "print(year, \"is evenly divisible by 400:\", divisible_by_400)\n"
   ]
  },
  {
   "cell_type": "code",
   "execution_count": 20,
   "id": "bbfc6bf0-c287-45ce-9b98-2e91d8a53b0c",
   "metadata": {},
   "outputs": [
    {
     "name": "stdin",
     "output_type": "stream",
     "text": [
      "Enter a number:  33\n"
     ]
    },
    {
     "name": "stdout",
     "output_type": "stream",
     "text": [
      "33 is not a prime number.\n"
     ]
    }
   ],
   "source": [
    "# Develop a program that checks if a given number is prime or not using nested if-else statements:\n",
    "num = int(input(\"Enter a number: \"))\n",
    "\n",
    "if num > 1:\n",
    "    for i in range(2, int(num**0.5) + 1):\n",
    "        if num % i == 0:\n",
    "            print(num, \"is not a prime number.\")\n",
    "            break\n",
    "    else:\n",
    "        print(num, \"is a prime number.\")\n",
    "else:\n",
    "    print(num, \"is not a prime number.\")\n",
    "\n"
   ]
  },
  {
   "cell_type": "code",
   "execution_count": 21,
   "id": "647f5e0e-185c-4018-92ec-02ebb95d208f",
   "metadata": {},
   "outputs": [
    {
     "name": "stdin",
     "output_type": "stream",
     "text": [
      "Enter the student's score:  81\n"
     ]
    },
    {
     "name": "stdout",
     "output_type": "stream",
     "text": [
      "The student's grade is: B\n"
     ]
    }
   ],
   "source": [
    "#Write a Python program to assign grades based on different ranges of scores using elif statements:\n",
    "score = float(input(\"Enter the student's score: \"))\n",
    "\n",
    "if score >= 90:\n",
    "    grade = 'A'\n",
    "elif score >= 80:\n",
    "    grade = 'B'\n",
    "elif score >= 70:\n",
    "    grade = 'C'\n",
    "elif score >= 60:\n",
    "    grade = 'D'\n",
    "else:\n",
    "    grade = 'F'\n",
    "\n",
    "print(\"The student's grade is:\", grade)\n"
   ]
  },
  {
   "cell_type": "code",
   "execution_count": 22,
   "id": "e5c8df73-48c7-45cf-83c3-42c02008da0a",
   "metadata": {},
   "outputs": [
    {
     "name": "stdin",
     "output_type": "stream",
     "text": [
      "Enter the first angle:  22\n",
      "Enter the second angle:  21\n",
      "Enter the third angle:  21\n"
     ]
    },
    {
     "name": "stdout",
     "output_type": "stream",
     "text": [
      "The triangle is a Acute triangle\n"
     ]
    }
   ],
   "source": [
    "#Implement a program to determine the type of a triangle based on its angles:\n",
    "angle1 = float(input(\"Enter the first angle: \"))\n",
    "angle2 = float(input(\"Enter the second angle: \"))\n",
    "angle3 = float(input(\"Enter the third angle: \"))\n",
    "\n",
    "if angle1 == 90 or angle2 == 90 or angle3 == 90:\n",
    "    triangle_type = \"Right triangle\"\n",
    "elif angle1 < 90 and angle2 < 90 and angle3 < 90:\n",
    "    triangle_type = \"Acute triangle\"\n",
    "else:\n",
    "    triangle_type = \"Obtuse triangle\"\n",
    "\n",
    "print(\"The triangle is a\", triangle_type)\n"
   ]
  },
  {
   "cell_type": "code",
   "execution_count": 23,
   "id": "835c9b3a-a344-4b34-accf-49e88e76e30e",
   "metadata": {},
   "outputs": [
    {
     "name": "stdin",
     "output_type": "stream",
     "text": [
      "Enter your weight in kilograms:  33\n",
      "Enter your height in meters:  32\n"
     ]
    },
    {
     "name": "stdout",
     "output_type": "stream",
     "text": [
      "Your BMI category is: Underweight\n"
     ]
    }
   ],
   "source": [
    "#Develop a program to categorize a given person's BMI into underweight, normal, overweight, or obese using elif statements:\n",
    "weight = float(input(\"Enter your weight in kilograms: \"))\n",
    "height = float(input(\"Enter your height in meters: \"))\n",
    "\n",
    "bmi = weight / (height ** 2)\n",
    "\n",
    "if bmi < 18.5:\n",
    "    category = \"Underweight\"\n",
    "elif 18.5 <= bmi < 25:\n",
    "    category = \"Normal weight\"\n",
    "elif 25 <= bmi < 30:\n",
    "    category = \"Overweight\"\n",
    "else:\n",
    "    category = \"Obese\"\n",
    "\n",
    "print(\"Your BMI category is:\", category)\n"
   ]
  },
  {
   "cell_type": "code",
   "execution_count": 25,
   "id": "e0bd52a4-0ab0-4ff3-8b6a-e15ae2ad8621",
   "metadata": {},
   "outputs": [
    {
     "name": "stdin",
     "output_type": "stream",
     "text": [
      "Enter a number:  0\n"
     ]
    },
    {
     "name": "stdout",
     "output_type": "stream",
     "text": [
      "The number is zero.\n"
     ]
    }
   ],
   "source": [
    "# Create a program to determine whether a given number is positive, negative, or zero using elif statements:\n",
    "num = float(input(\"Enter a number: \"))\n",
    "\n",
    "if num > 0:\n",
    "    print(\"The number is positive.\")\n",
    "elif num < 0:\n",
    "    print(\"The number is negative.\")\n",
    "else:\n",
    "    print(\"The number is zero.\")\n"
   ]
  },
  {
   "cell_type": "code",
   "execution_count": 26,
   "id": "f729877c-3035-4d13-a03a-7d73c493fa04",
   "metadata": {},
   "outputs": [
    {
     "name": "stdin",
     "output_type": "stream",
     "text": [
      "Enter a character:  w\n"
     ]
    },
    {
     "name": "stdout",
     "output_type": "stream",
     "text": [
      "The character is a Lowercase\n"
     ]
    }
   ],
   "source": [
    "# Write a Python script to determine the type of a character (uppercase, lowercase, or special) using elif statements:\n",
    "char = input(\"Enter a character: \")\n",
    "\n",
    "if char.isalpha():\n",
    "    if char.islower():\n",
    "        char_type = \"Lowercase\"\n",
    "    else:\n",
    "        char_type = \"Uppercase\"\n",
    "else:\n",
    "    char_type = \"Special character\"\n",
    "\n",
    "print(\"The character is a\", char_type)\n"
   ]
  },
  {
   "cell_type": "code",
   "execution_count": 27,
   "id": "54e1b2b6-2f52-43b1-b9f7-fe667d7583c1",
   "metadata": {},
   "outputs": [
    {
     "name": "stdin",
     "output_type": "stream",
     "text": [
      "Enter the purchase amount:  44\n"
     ]
    },
    {
     "name": "stdout",
     "output_type": "stream",
     "text": [
      "Discounted price: 44.0\n"
     ]
    }
   ],
   "source": [
    "#Implement a program to calculate the discounted price based on different purchase amounts using elif statements:\n",
    "purchase_amount = float(input(\"Enter the purchase amount: \"))\n",
    "\n",
    "if purchase_amount >= 1000:\n",
    "    discount = 0.1  # 10% discount\n",
    "elif purchase_amount >= 500:\n",
    "    discount = 0.05  # 5% discount\n",
    "else:\n",
    "    discount = 0.0\n",
    "\n",
    "discounted_price = purchase_amount - (purchase_amount * discount)\n",
    "\n",
    "print(\"Discounted price:\", discounted_price)\n"
   ]
  },
  {
   "cell_type": "code",
   "execution_count": 28,
   "id": "d7163520-087d-450a-baa1-43077ae4be8a",
   "metadata": {},
   "outputs": [
    {
     "name": "stdin",
     "output_type": "stream",
     "text": [
      "Enter the units consumed:  55\n"
     ]
    },
    {
     "name": "stdout",
     "output_type": "stream",
     "text": [
      "Electricity bill: 55.0\n"
     ]
    }
   ],
   "source": [
    "#Develop a program to calculate the electricity bill based on different consumption slabs using elif statements:\n",
    "units_consumed = int(input(\"Enter the units consumed: \"))\n",
    "\n",
    "if units_consumed <= 100:\n",
    "    bill = units_consumed * 1.0\n",
    "elif units_consumed <= 200:\n",
    "    bill = 100 + (units_consumed - 100) * 2.0\n",
    "else:\n",
    "    bill = 300 + (units_consumed - 200) * 3.0\n",
    "\n",
    "print(\"Electricity bill:\", bill)\n"
   ]
  },
  {
   "cell_type": "code",
   "execution_count": 30,
   "id": "6ea33048-fea7-42aa-b8c7-98489ca84ecb",
   "metadata": {},
   "outputs": [
    {
     "name": "stdin",
     "output_type": "stream",
     "text": [
      "Enter the first angle:  33\n",
      "Enter the second angle:  32\n",
      "Enter the third angle:  34\n",
      "Enter the fourth angle:  45\n"
     ]
    },
    {
     "name": "stdout",
     "output_type": "stream",
     "text": [
      "The quadrilateral\n"
     ]
    }
   ],
   "source": [
    "#Create a program to determine the type of quadrilateral based on its angles and sides using elif statements:\n",
    "angle1 = float(input(\"Enter the first angle: \"))\n",
    "angle2 = float(input(\"Enter the second angle: \"))\n",
    "angle3 = float(input(\"Enter the third angle: \"))\n",
    "angle4 = float(input(\"Enter the fourth angle: \"))\n",
    "\n",
    "if angle1 == angle2 == angle3 == angle4 == 90:\n",
    "    quadrilateral_type = \"Rectangle\"\n",
    "elif angle1 == angle2 == angle3 == angle4 and angle1 + angle2 + angle3 + angle4 == 360:\n",
    "    quadrilateral_type = \"Square\"\n",
    "elif angle1 == angle2 == angle3 == angle4:\n",
    "    quadrilateral_type = \"Rhombus\"\n",
    "else:\n",
    "    quadrilateral_type = \"Quadrilateral\"\n",
    "\n",
    "print(\"The quadrilateral\")\n"
   ]
  },
  {
   "cell_type": "code",
   "execution_count": 1,
   "id": "d188b9c0-434e-438f-baa6-8edb9ab65148",
   "metadata": {},
   "outputs": [
    {
     "name": "stdin",
     "output_type": "stream",
     "text": [
      "Enter a month (e.g., January, February, etc.):  January\n"
     ]
    },
    {
     "name": "stdout",
     "output_type": "stream",
     "text": [
      "The season for January is Winter.\n"
     ]
    }
   ],
   "source": [
    "#Write a Python script to determine the season based on a user-provided month using elif statements:\n",
    "month = input(\"Enter a month (e.g., January, February, etc.): \")\n",
    "\n",
    "spring_months = [\"March\", \"April\", \"May\"]\n",
    "summer_months = [\"June\", \"July\", \"August\"]\n",
    "fall_months = [\"September\", \"October\", \"November\"]\n",
    "winter_months = [\"December\", \"January\", \"February\"]\n",
    "\n",
    "if month in spring_months:\n",
    "    season = \"Spring\"\n",
    "elif month in summer_months:\n",
    "    season = \"Summer\"\n",
    "elif month in fall_months:\n",
    "    season = \"Fall\"\n",
    "elif month in winter_months:\n",
    "    season = \"Winter\"\n",
    "else:\n",
    "    season = \"Invalid\"\n",
    "\n",
    "print(f\"The season for {month} is {season}.\")\n"
   ]
  },
  {
   "cell_type": "code",
   "execution_count": 2,
   "id": "e45ef3ec-0a02-4cf0-8434-1a802b6bb988",
   "metadata": {},
   "outputs": [
    {
     "name": "stdin",
     "output_type": "stream",
     "text": [
      "Enter a year:  2025\n",
      "Enter a month (e.g., January, February, etc.):  january\n"
     ]
    },
    {
     "name": "stdout",
     "output_type": "stream",
     "text": [
      "2025 is a Common year. january has 31 days.\n"
     ]
    }
   ],
   "source": [
    "# Implement a program to determine the type of a year (leap or common) and month (30 or 31 days) using elif statements:\n",
    "year = int(input(\"Enter a year: \"))\n",
    "month = input(\"Enter a month (e.g., January, February, etc.): \")\n",
    "\n",
    "if (year % 4 == 0 and year % 100 != 0) or (year % 400 == 0):\n",
    "    year_type = \"Leap year\"\n",
    "else:\n",
    "    year_type = \"Common year\"\n",
    "\n",
    "months_30_days = [\"April\", \"June\", \"September\", \"November\"]\n",
    "\n",
    "if month in months_30_days:\n",
    "    days_type = \"30 days\"\n",
    "elif month == \"February\" and year_type == \"Leap year\":\n",
    "    days_type = \"29 days\"\n",
    "elif month == \"February\":\n",
    "    days_type = \"28 days\"\n",
    "else:\n",
    "    days_type = \"31 days\"\n",
    "\n",
    "print(f\"{year} is a {year_type}. {month} has {days_type}.\")\n"
   ]
  },
  {
   "cell_type": "code",
   "execution_count": 3,
   "id": "9c0aeaf9-351d-4d58-9738-aa274569491d",
   "metadata": {},
   "outputs": [
    {
     "name": "stdin",
     "output_type": "stream",
     "text": [
      "Enter a number:  -55\n"
     ]
    },
    {
     "name": "stdout",
     "output_type": "stream",
     "text": [
      "The number is negative.\n"
     ]
    }
   ],
   "source": [
    "#Check if a given number is positive, negative, or zero:\n",
    "num = float(input(\"Enter a number: \"))\n",
    "\n",
    "if num > 0:\n",
    "    print(\"The number is positive.\")\n",
    "elif num < 0:\n",
    "    print(\"The number is negative.\")\n",
    "else:\n",
    "    print(\"The number is zero.\")\n"
   ]
  },
  {
   "cell_type": "code",
   "execution_count": 4,
   "id": "05518f94-dd24-441b-a802-4ab183f0e982",
   "metadata": {},
   "outputs": [
    {
     "name": "stdin",
     "output_type": "stream",
     "text": [
      "Enter your age:  77\n"
     ]
    },
    {
     "name": "stdout",
     "output_type": "stream",
     "text": [
      "You are eligible to vote.\n"
     ]
    }
   ],
   "source": [
    "# Determine if a person is eligible to vote based on their age:\n",
    "age = int(input(\"Enter your age: \"))\n",
    "\n",
    "if age >= 18:\n",
    "    print(\"You are eligible to vote.\")\n",
    "else:\n",
    "    print(\"You are not eligible to vote.\")\n"
   ]
  },
  {
   "cell_type": "code",
   "execution_count": 5,
   "id": "39d9bdb6-ed45-4491-a9d8-316ae614439a",
   "metadata": {},
   "outputs": [
    {
     "name": "stdin",
     "output_type": "stream",
     "text": [
      "Enter the first number:  77\n",
      "Enter the second number:  55\n"
     ]
    },
    {
     "name": "stdout",
     "output_type": "stream",
     "text": [
      "The maximum number is: 77.0\n"
     ]
    }
   ],
   "source": [
    "#Find the maximum of two given numbers:\n",
    "num1 = float(input(\"Enter the first number: \"))\n",
    "num2 = float(input(\"Enter the second number: \"))\n",
    "\n",
    "if num1 > num2:\n",
    "    print(\"The maximum number is:\", num1)\n",
    "else:\n",
    "    print(\"The maximum number is:\", num2)\n"
   ]
  },
  {
   "cell_type": "code",
   "execution_count": 6,
   "id": "c00f5510-480b-4263-b026-1e35194800a7",
   "metadata": {},
   "outputs": [
    {
     "name": "stdin",
     "output_type": "stream",
     "text": [
      "Enter the student's score:  88\n"
     ]
    },
    {
     "name": "stdout",
     "output_type": "stream",
     "text": [
      "The student's grade is: B\n"
     ]
    }
   ],
   "source": [
    "# Calculate the grade of a student based on their exam score:\n",
    "score = float(input(\"Enter the student's score: \"))\n",
    "\n",
    "if score >= 90:\n",
    "    grade = 'A'\n",
    "elif score >= 80:\n",
    "    grade = 'B'\n",
    "elif score >= 70:\n",
    "    grade = 'C'\n",
    "elif score >= 60:\n",
    "    grade = 'D'\n",
    "else:\n",
    "    grade = 'F'\n",
    "\n",
    "print(\"The student's grade is:\", grade)\n"
   ]
  },
  {
   "cell_type": "code",
   "execution_count": 7,
   "id": "656017d0-48e5-4aa4-9586-e7d8c6842e29",
   "metadata": {},
   "outputs": [
    {
     "name": "stdin",
     "output_type": "stream",
     "text": [
      "Enter a year:  3031\n"
     ]
    },
    {
     "name": "stdout",
     "output_type": "stream",
     "text": [
      "3031 is not a leap year.\n"
     ]
    }
   ],
   "source": [
    "# Check if a year is a leap year or not:\n",
    "year = int(input(\"Enter a year: \"))\n",
    "\n",
    "if (year % 4 == 0 and year % 100 != 0) or (year % 400 == 0):\n",
    "    print(year, \"is a leap year.\")\n",
    "else:\n",
    "    print(year, \"is not a leap year.\")\n"
   ]
  },
  {
   "cell_type": "code",
   "execution_count": 8,
   "id": "be8f4a3d-b68a-45bd-8a20-f4df86393681",
   "metadata": {},
   "outputs": [
    {
     "name": "stdin",
     "output_type": "stream",
     "text": [
      "Enter the length of the first side:  66\n",
      "Enter the length of the second side:  54\n",
      "Enter the length of the third side:  34\n"
     ]
    },
    {
     "name": "stdout",
     "output_type": "stream",
     "text": [
      "The triangle is Scalene.\n"
     ]
    }
   ],
   "source": [
    "# Classify a triangle based on its sides' lengths:\n",
    "side1 = float(input(\"Enter the length of the first side: \"))\n",
    "side2 = float(input(\"Enter the length of the second side: \"))\n",
    "side3 = float(input(\"Enter the length of the third side: \"))\n",
    "\n",
    "if side1 == side2 == side3:\n",
    "    triangle_type = \"Equilateral\"\n",
    "elif side1 == side2 or side1 == side3 or side2 == side3:\n",
    "    triangle_type = \"Isosceles\"\n",
    "else:\n",
    "    triangle_type = \"Scalene\"\n",
    "\n",
    "print(\"The triangle is\", triangle_type + \".\")\n"
   ]
  },
  {
   "cell_type": "code",
   "execution_count": 9,
   "id": "e0e8dadf-3d13-4317-949d-ce09bdece77b",
   "metadata": {},
   "outputs": [
    {
     "name": "stdin",
     "output_type": "stream",
     "text": [
      "Enter the first number:  77\n",
      "Enter the second number:  88\n",
      "Enter the third number:  55\n"
     ]
    },
    {
     "name": "stdout",
     "output_type": "stream",
     "text": [
      "The largest number is: 88.0\n"
     ]
    }
   ],
   "source": [
    "#Determine the largest of three given numbers:\n",
    "num1 = float(input(\"Enter the first number: \"))\n",
    "num2 = float(input(\"Enter the second number: \"))\n",
    "num3 = float(input(\"Enter the third number: \"))\n",
    "\n",
    "if num1 >= num2 and num1 >= num3:\n",
    "    print(\"The largest number is:\", num1)\n",
    "elif num2 >= num1 and num2 >= num3:\n",
    "    print(\"The largest number is:\", num2)\n",
    "else:\n",
    "    print(\"The largest number is:\", num3)\n"
   ]
  },
  {
   "cell_type": "code",
   "execution_count": 10,
   "id": "5fb7b205-c830-42b4-b369-ad813d7d4a7a",
   "metadata": {},
   "outputs": [
    {
     "name": "stdin",
     "output_type": "stream",
     "text": [
      "Enter a character:  yy\n"
     ]
    },
    {
     "name": "stdout",
     "output_type": "stream",
     "text": [
      "yy is a consonant.\n"
     ]
    }
   ],
   "source": [
    "# Check whether a character is a vowel or a consonant:\n",
    "char = input(\"Enter a character: \")\n",
    "\n",
    "if char.lower() in 'aeiou':\n",
    "    print(char, \"is a vowel.\")\n",
    "else:\n",
    "    print(char, \"is a consonant.\")\n"
   ]
  },
  {
   "cell_type": "code",
   "execution_count": 11,
   "id": "55626918-139e-4adf-85fc-150351f7a7dc",
   "metadata": {},
   "outputs": [
    {
     "name": "stdin",
     "output_type": "stream",
     "text": [
      "Enter the total cost of the items in the cart:  77\n"
     ]
    },
    {
     "name": "stdout",
     "output_type": "stream",
     "text": [
      "Discounted cost: 77.0\n"
     ]
    }
   ],
   "source": [
    "# Calculate the total cost of a shopping cart based on discounts\n",
    "total_cost = float(input(\"Enter the total cost of the items in the cart: \"))\n",
    "\n",
    "if total_cost >= 100:\n",
    "    discount = 0.1  # 10% discount\n",
    "else:\n",
    "    discount = 0.0\n",
    "\n",
    "discounted_cost = total_cost - (total_cost * discount)\n",
    "\n",
    "print(\"Discounted cost:\", discounted_cost)\n"
   ]
  },
  {
   "cell_type": "code",
   "execution_count": 12,
   "id": "570e502f-e49a-4403-85da-cbf952aa2df9",
   "metadata": {},
   "outputs": [
    {
     "name": "stdin",
     "output_type": "stream",
     "text": [
      "Enter a number:  77\n"
     ]
    },
    {
     "name": "stdout",
     "output_type": "stream",
     "text": [
      "77 is odd.\n"
     ]
    }
   ],
   "source": [
    "#Check if a given number is even or odd:\n",
    "num = int(input(\"Enter a number: \"))\n",
    "\n",
    "if num % 2 == 0:\n",
    "    print(num, \"is even.\")\n",
    "else:\n",
    "    print(num, \"is odd.\")\n"
   ]
  },
  {
   "cell_type": "code",
   "execution_count": 13,
   "id": "c1da0416-f069-4d35-abe2-d725f5c616f0",
   "metadata": {},
   "outputs": [
    {
     "name": "stdin",
     "output_type": "stream",
     "text": [
      "Enter the coefficient 'a':  77\n",
      "Enter the coefficient 'b':  88\n",
      "Enter the coefficient 'c':  44\n"
     ]
    },
    {
     "name": "stdout",
     "output_type": "stream",
     "text": [
      "Roots are complex.\n",
      "Root 1: -0.5714285714285714 + 0.4948716593053935 i\n",
      "Root 2: -0.5714285714285714 - 0.4948716593053935 i\n"
     ]
    }
   ],
   "source": [
    "# Calculate the roots of a quadratic equation:\n",
    "import math\n",
    "\n",
    "a = float(input(\"Enter the coefficient 'a': \"))\n",
    "b = float(input(\"Enter the coefficient 'b': \"))\n",
    "c = float(input(\"Enter the coefficient 'c': \"))\n",
    "\n",
    "discriminant = b**2 - 4*a*c\n",
    "\n",
    "if discriminant > 0:\n",
    "    root1 = (-b + math.sqrt(discriminant)) / (2*a)\n",
    "    root2 = (-b - math.sqrt(discriminant)) / (2*a)\n",
    "    print(\"Roots are real and distinct.\")\n",
    "    print(\"Root 1:\", root1)\n",
    "    print(\"Root 2:\", root2)\n",
    "elif discriminant == 0:\n",
    "    root1 = -b / (2*a)\n",
    "    print(\"Roots are real and equal.\")\n",
    "    print(\"Root:\", root1)\n",
    "else:\n",
    "    real_part = -b / (2*a)\n",
    "    imaginary_part = math.sqrt(-discriminant) / (2*a)\n",
    "    print(\"Roots are complex.\")\n",
    "    print(\"Root 1:\", real_part, \"+\", imaginary_part, \"i\")\n",
    "    print(\"Root 2:\", real_part, \"-\", imaginary_part, \"i\")\n"
   ]
  },
  {
   "cell_type": "code",
   "execution_count": 14,
   "id": "01fa4fa9-37f5-4a3d-b71d-4cedab2c8cf4",
   "metadata": {},
   "outputs": [
    {
     "name": "stdin",
     "output_type": "stream",
     "text": [
      "Enter a number (1-7) to represent a day of the week:  6\n"
     ]
    },
    {
     "name": "stdout",
     "output_type": "stream",
     "text": [
      "The day is: Saturday\n"
     ]
    }
   ],
   "source": [
    "#Determine the day of the week based on the day number (1-7):\n",
    "day_number = int(input(\"Enter a number (1-7) to represent a day of the week: \"))\n",
    "\n",
    "days = [\"Monday\", \"Tuesday\", \"Wednesday\", \"Thursday\", \"Friday\", \"Saturday\", \"Sunday\"]\n",
    "\n",
    "if 1 <= day_number <= 7:\n",
    "    day = days[day_number - 1]\n",
    "    print(\"The day is:\", day)\n",
    "else:\n",
    "    print(\"Invalid day number. Please enter a number between 1 and 7.\")\n"
   ]
  },
  {
   "cell_type": "code",
   "execution_count": 15,
   "id": "724b5a04-59e5-48ef-b3a6-ed68a0bb3277",
   "metadata": {},
   "outputs": [
    {
     "name": "stdin",
     "output_type": "stream",
     "text": [
      "Enter a number:  474\n"
     ]
    },
    {
     "name": "stdout",
     "output_type": "stream",
     "text": [
      "The factorial of 474 is 158637182947361690797033564243849566647626785753258894724262145657739580475206815284411464398749241603871283221460646018128671428489259631311950636257796680564707389153055223031094616981818432726405816325731716985388849963690827583538875914709083988990499286878438329952261894464929986390066918724005522452770644662166734734687798932218084810591527197370579740600638601224407332694785445461346443739940045634631559807294512397817769927044140290627002687052026888749446571787362590266430539808066671072685672538641971194964654644210875021692654464141416413231172614949830074063290755895434168099133201219780834075479365155425440233340045598699316944353392153749555771990395523813155744523059813606221825400109319706696809828079698866926587028287118569986205583142986846355699016986783471849204820709407928462121467305252323457467934171154227904717311234188258096979543188563486435625076721457545877512918953693152809869819414372071685392020625088839680000000000000000000000000000000000000000000000000000000000000000000000000000000000000000000000000000000000000000000.\n"
     ]
    }
   ],
   "source": [
    "#Calculate the factorial of a given number using recursion:\n",
    "def factorial(n):\n",
    "    if n == 0:\n",
    "        return 1\n",
    "    else:\n",
    "        return n * factorial(n - 1)\n",
    "\n",
    "num = int(input(\"Enter a number: \"))\n",
    "result = factorial(num)\n",
    "print(f\"The factorial of {num} is {result}.\")\n",
    "   "
   ]
  },
  {
   "cell_type": "code",
   "execution_count": 16,
   "id": "cffb22cb-702b-47ac-b14e-0c27aa03013f",
   "metadata": {},
   "outputs": [
    {
     "name": "stdin",
     "output_type": "stream",
     "text": [
      "Enter the first number:  77\n",
      "Enter the second number:  55\n",
      "Enter the third number:  33\n"
     ]
    },
    {
     "name": "stdout",
     "output_type": "stream",
     "text": [
      "The largest number is: 77.0\n"
     ]
    }
   ],
   "source": [
    "# Find the largest among three numbers without using the max() function:\n",
    "num1 = float(input(\"Enter the first number: \"))\n",
    "num2 = float(input(\"Enter the second number: \"))\n",
    "num3 = float(input(\"Enter the third number: \"))\n",
    "\n",
    "if num1 >= num2 and num1 >= num3:\n",
    "    largest = num1\n",
    "elif num2 >= num1 and num2 >= num3:\n",
    "    largest = num2\n",
    "else:\n",
    "    largest = num3\n",
    "\n",
    "print(\"The largest number is:\", largest)\n"
   ]
  },
  {
   "cell_type": "code",
   "execution_count": 17,
   "id": "442f5d20-132a-4a2c-a958-0f430186fe78",
   "metadata": {},
   "outputs": [
    {
     "name": "stdout",
     "output_type": "stream",
     "text": [
      "\n",
      "ATM Menu:\n",
      "1. Check Balance\n",
      "2. Deposit\n",
      "3. Withdraw\n",
      "4. Exit\n"
     ]
    },
    {
     "name": "stdin",
     "output_type": "stream",
     "text": [
      "Enter your choice:  3\n",
      "Enter the withdrawal amount:  500\n"
     ]
    },
    {
     "name": "stdout",
     "output_type": "stream",
     "text": [
      "Withdrawal successful. New balance: 500.0\n",
      "\n",
      "ATM Menu:\n",
      "1. Check Balance\n",
      "2. Deposit\n",
      "3. Withdraw\n",
      "4. Exit\n"
     ]
    },
    {
     "name": "stdin",
     "output_type": "stream",
     "text": [
      "Enter your choice:  4\n"
     ]
    },
    {
     "name": "stdout",
     "output_type": "stream",
     "text": [
      "Exiting ATM. Have a nice day!\n"
     ]
    }
   ],
   "source": [
    "#Simulate a basic ATM transaction menu:\n",
    "balance = 1000\n",
    "\n",
    "while True:\n",
    "    print(\"\\nATM Menu:\")\n",
    "    print(\"1. Check Balance\")\n",
    "    print(\"2. Deposit\")\n",
    "    print(\"3. Withdraw\")\n",
    "    print(\"4. Exit\")\n",
    "    \n",
    "    choice = int(input(\"Enter your choice: \"))\n",
    "    \n",
    "    if choice == 1:\n",
    "        print(\"Balance:\", balance)\n",
    "    elif choice == 2:\n",
    "        amount = float(input(\"Enter the deposit amount: \"))\n",
    "        balance += amount\n",
    "        print(\"Deposit successful. New balance:\", balance)\n",
    "    elif choice == 3:\n",
    "        amount = float(input(\"Enter the withdrawal amount: \"))\n",
    "        if amount <= balance:\n",
    "            balance -= amount\n",
    "            print(\"Withdrawal successful. New balance:\", balance)\n",
    "        else:\n",
    "            print(\"Insufficient funds.\")\n",
    "    elif choice == 4:\n",
    "        print(\"Exiting ATM. Have a nice day!\")\n",
    "        break\n",
    "    else:\n",
    "        print(\"Invalid choice. Please select a valid option.\")\n"
   ]
  },
  {
   "cell_type": "code",
   "execution_count": 18,
   "id": "c3937590-aadb-4cb6-9b74-9b7c2e10499c",
   "metadata": {},
   "outputs": [
    {
     "name": "stdin",
     "output_type": "stream",
     "text": [
      "Enter a string:  ajjs\n"
     ]
    },
    {
     "name": "stdout",
     "output_type": "stream",
     "text": [
      "The string is not a palindrome.\n"
     ]
    }
   ],
   "source": [
    "#Check if a given string is a palindrome or not:\n",
    "def is_palindrome(string):\n",
    "    string = string.lower().replace(\" \", \"\")  # Convert to lowercase and remove spaces\n",
    "    return string == string[::-1]\n",
    "\n",
    "input_string = input(\"Enter a string: \")\n",
    "\n",
    "if is_palindrome(input_string):\n",
    "    print(\"The string is a palindrome.\")\n",
    "else:\n",
    "    print(\"The string is not a palindrome.\")\n"
   ]
  },
  {
   "cell_type": "code",
   "execution_count": 19,
   "id": "ff867c58-8ade-4406-b38e-4072349e49ce",
   "metadata": {},
   "outputs": [
    {
     "name": "stdin",
     "output_type": "stream",
     "text": [
      "Enter a list of numbers separated by spaces:  4 3 5 6 \n"
     ]
    },
    {
     "name": "stdout",
     "output_type": "stream",
     "text": [
      "Average (excluding smallest and largest): 4.5\n"
     ]
    }
   ],
   "source": [
    "# Calculate the average of a list of numbers, excluding the smallest and largest values:\n",
    "numbers = [float(x) for x in input(\"Enter a list of numbers separated by spaces: \").split()]\n",
    "\n",
    "if len(numbers) >= 3:\n",
    "    numbers.remove(min(numbers))\n",
    "    numbers.remove(max(numbers))\n",
    "    average = sum(numbers) / len(numbers)\n",
    "    print(\"Average (excluding smallest and largest):\", average)\n",
    "else:\n",
    "    print(\"Please enter at least three numbers.\")\n"
   ]
  },
  {
   "cell_type": "code",
   "execution_count": 20,
   "id": "0dd2822b-2733-49fc-b88b-a4372b4a85f7",
   "metadata": {},
   "outputs": [
    {
     "name": "stdin",
     "output_type": "stream",
     "text": [
      "Enter the temperature in Celsius:  77\n"
     ]
    },
    {
     "name": "stdout",
     "output_type": "stream",
     "text": [
      "77.0°C is equal to 170.6°F.\n"
     ]
    }
   ],
   "source": [
    "#Convert a given temperature from Celsius to Fahrenheit:\n",
    "celsius = float(input(\"Enter the temperature in Celsius: \"))\n",
    "fahrenheit = (celsius * 9/5) + 32\n",
    "print(f\"{celsius}°C is equal to {fahrenheit}°F.\")\n"
   ]
  },
  {
   "cell_type": "code",
   "execution_count": 21,
   "id": "09f3e67d-dcd2-45c9-bd4b-bae9993fc68b",
   "metadata": {},
   "outputs": [
    {
     "name": "stdout",
     "output_type": "stream",
     "text": [
      "Select operation:\n",
      "1. Add\n",
      "2. Subtract\n",
      "3. Multiply\n",
      "4. Divide\n"
     ]
    },
    {
     "name": "stdin",
     "output_type": "stream",
     "text": [
      "Enter choice (1/2/3/4):  3\n",
      "Enter first number:  22\n",
      "Enter second number:  22\n"
     ]
    },
    {
     "name": "stdout",
     "output_type": "stream",
     "text": [
      "Result: 484.0\n"
     ]
    }
   ],
   "source": [
    "# Simulate a basic calculator for addition, subtraction, multiplication, and division:\n",
    "def add(x, y):\n",
    "    return x + y\n",
    "\n",
    "def subtract(x, y):\n",
    "    return x - y\n",
    "\n",
    "def multiply(x, y):\n",
    "    return x * y\n",
    "\n",
    "def divide(x, y):\n",
    "    if y != 0:\n",
    "        return x / y\n",
    "    else:\n",
    "        return \"Division by zero is not allowed.\"\n",
    "\n",
    "print(\"Select operation:\")\n",
    "print(\"1. Add\")\n",
    "print(\"2. Subtract\")\n",
    "print(\"3. Multiply\")\n",
    "print(\"4. Divide\")\n",
    "\n",
    "choice = input(\"Enter choice (1/2/3/4): \")\n",
    "\n",
    "num1 = float(input(\"Enter first number: \"))\n",
    "num2 = float(input(\"Enter second number: \"))\n",
    "\n",
    "if choice == '1':\n",
    "    print(\"Result:\", add(num1, num2))\n",
    "elif choice == '2':\n",
    "    print(\"Result:\", subtract(num1, num2))\n",
    "elif choice == '3':\n",
    "    print(\"Result:\", multiply(num1, num2))\n",
    "elif choice == '4':\n",
    "    print(\"Result:\", divide(num1, num2))\n",
    "else:\n",
    "    print(\"Invalid input\")\n"
   ]
  },
  {
   "cell_type": "code",
   "execution_count": 22,
   "id": "f2c3d3fa-2249-4668-ba18-529dd309d9d9",
   "metadata": {},
   "outputs": [
    {
     "name": "stdin",
     "output_type": "stream",
     "text": [
      "Enter your income:  70000\n"
     ]
    },
    {
     "name": "stdout",
     "output_type": "stream",
     "text": [
      "Income tax: 14999.5\n"
     ]
    }
   ],
   "source": [
    "#Calculate income tax based on income and tax brackets:\n",
    "income = float(input(\"Enter your income: \"))\n",
    "\n",
    "tax_brackets = [(0, 10000, 0.10), (10001, 50000, 0.20), (50001, float(\"inf\"), 0.30)]\n",
    "\n",
    "tax = 0\n",
    "\n",
    "for bracket in tax_brackets:\n",
    "    if income >= bracket[0]:\n",
    "        taxable = min(income, bracket[1]) - bracket[0]\n",
    "        tax += taxable * bracket[2]\n",
    "\n",
    "print(\"Income tax:\", tax)\n"
   ]
  },
  {
   "cell_type": "code",
   "execution_count": 23,
   "id": "ff1e8f5b-a29d-43f3-9bdb-bd08338e0de1",
   "metadata": {},
   "outputs": [
    {
     "name": "stdin",
     "output_type": "stream",
     "text": [
      "Enter your choice (rock, paper, scissors):  rock\n"
     ]
    },
    {
     "name": "stdout",
     "output_type": "stream",
     "text": [
      "Computer chose: rock\n",
      "It's a tie!\n"
     ]
    }
   ],
   "source": [
    "#Simulate a rock-paper-scissors game against the computer:\n",
    "import random\n",
    "\n",
    "choices = [\"rock\", \"paper\", \"scissors\"]\n",
    "\n",
    "user_choice = input(\"Enter your choice (rock, paper, scissors): \")\n",
    "computer_choice = random.choice(choices)\n",
    "\n",
    "print(f\"Computer chose: {computer_choice}\")\n",
    "\n",
    "if user_choice == computer_choice:\n",
    "    print(\"It's a tie!\")\n",
    "elif (user_choice == \"rock\" and computer_choice == \"scissors\") or (user_choice == \"paper\" and computer_choice == \"rock\") or (user_choice == \"scissors\" and computer_choice == \"paper\"):\n",
    "    print(\"You win!\")\n",
    "else:\n",
    "    print(\"Computer wins!\")\n"
   ]
  },
  {
   "cell_type": "code",
   "execution_count": 24,
   "id": "db9d3740-31f4-4f0a-9da2-ebeaf008d431",
   "metadata": {},
   "outputs": [
    {
     "name": "stdin",
     "output_type": "stream",
     "text": [
      "Enter the password length:  8\n",
      "Use digits (yes/no):  no\n",
      "Use special characters (yes/no):  no\n"
     ]
    },
    {
     "name": "stdout",
     "output_type": "stream",
     "text": [
      "Random Password: BNawqOJE\n"
     ]
    }
   ],
   "source": [
    "#Generate a random password based on user preferences:\n",
    "import random\n",
    "import string\n",
    "\n",
    "length = int(input(\"Enter the password length: \"))\n",
    "use_digits = input(\"Use digits (yes/no): \").lower() == \"yes\"\n",
    "use_special_chars = input(\"Use special characters (yes/no): \").lower() == \"yes\"\n",
    "\n",
    "characters = string.ascii_letters\n",
    "if use_digits:\n",
    "    characters += string.digits\n",
    "if use_special_chars:\n",
    "    characters += string.punctuation\n",
    "\n",
    "password = ''.join(random.choice(characters) for _ in range(length))\n",
    "print(\"Random Password:\", password)\n"
   ]
  },
  {
   "cell_type": "code",
   "execution_count": 25,
   "id": "d34adfcf-fcb9-4dc7-8b1f-5a4fe4c6113c",
   "metadata": {},
   "outputs": [
    {
     "name": "stdout",
     "output_type": "stream",
     "text": [
      "Welcome to the Text Adventure Game!\n",
      "You find yourself in a forest.\n"
     ]
    },
    {
     "name": "stdin",
     "output_type": "stream",
     "text": [
      "Do you want to go 'left' or 'right'?  right\n"
     ]
    },
    {
     "name": "stdout",
     "output_type": "stream",
     "text": [
      "You walked into a cave.\n"
     ]
    },
    {
     "name": "stdin",
     "output_type": "stream",
     "text": [
      "Do you want to 'explore' the cave or 'return' to the forest?  return\n"
     ]
    },
    {
     "name": "stdout",
     "output_type": "stream",
     "text": [
      "You returned to the forest.\n",
      "Game Over.\n"
     ]
    }
   ],
   "source": [
    "# Implement a simple text-based adventure game with branching scenarios:\n",
    "print(\"Welcome to the Text Adventure Game!\")\n",
    "print(\"You find yourself in a forest.\")\n",
    "\n",
    "choice = input(\"Do you want to go 'left' or 'right'? \").lower()\n",
    "\n",
    "if choice == \"left\":\n",
    "    print(\"You encountered a river.\")\n",
    "    choice = input(\"Do you want to 'swim' across or 'build' a raft? \").lower()\n",
    "    if choice == \"swim\":\n",
    "        print(\"You swam across and reached the other side safely.\")\n",
    "    elif choice == \"build\":\n",
    "        print(\"You built a raft and crossed the river.\")\n",
    "    else:\n",
    "        print(\"You hesitated and got stuck.\")\n",
    "else:\n",
    "    print(\"You walked into a cave.\")\n",
    "    choice = input(\"Do you want to 'explore' the cave or 'return' to the forest? \").lower()\n",
    "    if choice == \"explore\":\n",
    "        print(\"You found treasure!\")\n",
    "    elif choice == \"return\":\n",
    "        print(\"You returned to the forest.\")\n",
    "    else:\n",
    "        print(\"You got lost in the cave.\")\n",
    "\n",
    "print(\"Game Over.\")\n"
   ]
  },
  {
   "cell_type": "code",
   "execution_count": 26,
   "id": "389435c9-4c72-48a1-94a8-d32b8bc9fd0c",
   "metadata": {},
   "outputs": [
    {
     "name": "stdin",
     "output_type": "stream",
     "text": [
      "Enter the coefficient 'a':  44\n",
      "Enter the coefficient 'b':  2\n"
     ]
    },
    {
     "name": "stdout",
     "output_type": "stream",
     "text": [
      "The solution for x is: -0.045454545454545456\n"
     ]
    }
   ],
   "source": [
    "#Solve a linear equation for x, considering different cases:\n",
    "a = float(input(\"Enter the coefficient 'a': \"))\n",
    "b = float(input(\"Enter the coefficient 'b': \"))\n",
    "\n",
    "if a == 0:\n",
    "    if b == 0:\n",
    "        print(\"Infinite solutions (all real numbers).\")\n",
    "    else:\n",
    "        print(\"No solution.\")\n",
    "else:\n",
    "    x = -b / a\n",
    "    print(f\"The solution for x is: {x}\")\n"
   ]
  },
  {
   "cell_type": "code",
   "execution_count": 27,
   "id": "1f9fc3b6-4c77-4bc6-943f-1a0262ea47f1",
   "metadata": {},
   "outputs": [
    {
     "name": "stdout",
     "output_type": "stream",
     "text": [
      "What is the capital of France?\n",
      "1. Paris\n",
      "2. Berlin\n",
      "3. London\n"
     ]
    },
    {
     "name": "stdin",
     "output_type": "stream",
     "text": [
      "Enter your choice (1/2/3):  2\n"
     ]
    },
    {
     "name": "stdout",
     "output_type": "stream",
     "text": [
      "Wrong! The correct answer is: Paris\n",
      "\n",
      "Which planet is known as the Red Planet?\n",
      "1. Mars\n",
      "2. Jupiter\n",
      "3. Venus\n"
     ]
    },
    {
     "name": "stdin",
     "output_type": "stream",
     "text": [
      "Enter your choice (1/2/3):  2\n"
     ]
    },
    {
     "name": "stdout",
     "output_type": "stream",
     "text": [
      "Wrong! The correct answer is: Mars\n",
      "\n",
      "What is 2 + 2?\n",
      "1. 3\n",
      "2. 4\n",
      "3. 5\n"
     ]
    },
    {
     "name": "stdin",
     "output_type": "stream",
     "text": [
      "Enter your choice (1/2/3):  3\n"
     ]
    },
    {
     "name": "stdout",
     "output_type": "stream",
     "text": [
      "Wrong! The correct answer is: 4\n",
      "\n",
      "Your score: 0/3\n"
     ]
    }
   ],
   "source": [
    "# Simulate a basic quiz game with multiple-choice questions and scoring:\n",
    "questions = [\n",
    "    {\n",
    "        'question': 'What is the capital of France?',\n",
    "        'options': ['Paris', 'Berlin', 'London'],\n",
    "        'answer': 'Paris'\n",
    "    },\n",
    "    {\n",
    "        'question': 'Which planet is known as the Red Planet?',\n",
    "        'options': ['Mars', 'Jupiter', 'Venus'],\n",
    "        'answer': 'Mars'\n",
    "    },\n",
    "    {\n",
    "        'question': 'What is 2 + 2?',\n",
    "        'options': ['3', '4', '5'],\n",
    "        'answer': '4'\n",
    "    }\n",
    "]\n",
    "\n",
    "score = 0\n",
    "\n",
    "for question in questions:\n",
    "    print(question['question'])\n",
    "    for i, option in enumerate(question['options'], start=1):\n",
    "        print(f\"{i}. {option}\")\n",
    "    user_answer = input(\"Enter your choice (1/2/3): \")\n",
    "    if user_answer == question['answer']:\n",
    "        print(\"Correct!\\n\")\n",
    "        score += 1\n",
    "    else:\n",
    "        print(f\"Wrong! The correct answer is: {question['answer']}\\n\")\n",
    "\n",
    "print(f\"Your score: {score}/{len(questions)}\")\n"
   ]
  },
  {
   "cell_type": "code",
   "execution_count": 28,
   "id": "afce0791-292a-4d2a-8b98-b29276b51ae2",
   "metadata": {},
   "outputs": [
    {
     "name": "stdin",
     "output_type": "stream",
     "text": [
      "Enter a year:  2043\n"
     ]
    },
    {
     "name": "stdout",
     "output_type": "stream",
     "text": [
      "2043 is not a prime number.\n"
     ]
    }
   ],
   "source": [
    "#Determine whether a given year is a prime number or not:\n",
    "year = int(input(\"Enter a year: \"))\n",
    "\n",
    "if year > 1:\n",
    "    for i in range(2, int(year**0.5) + 1):\n",
    "        if (year % i) == 0:\n",
    "            print(year, \"is not a prime number.\")\n",
    "            break\n",
    "    else:\n",
    "        print(year, \"is a prime number.\")\n",
    "else:\n",
    "    print(year, \"is not a prime number.\")\n"
   ]
  },
  {
   "cell_type": "code",
   "execution_count": 29,
   "id": "8547b6e2-7010-403d-b7e6-a39225455c1f",
   "metadata": {},
   "outputs": [
    {
     "name": "stdin",
     "output_type": "stream",
     "text": [
      "Enter the first number:  22\n",
      "Enter the second number:  33\n",
      "Enter the third number:  21\n"
     ]
    },
    {
     "name": "stdout",
     "output_type": "stream",
     "text": [
      "Sorted order: 21.0 22.0 33.0\n"
     ]
    }
   ],
   "source": [
    "# Sort three numbers in ascending order using conditional statements:\n",
    "num1 = float(input(\"Enter the first number: \"))\n",
    "num2 = float(input(\"Enter the second number: \"))\n",
    "num3 = float(input(\"Enter the third number: \"))\n",
    "\n",
    "if num1 <= num2 <= num3:\n",
    "    print(\"Sorted order:\", num1, num2, num3)\n",
    "elif num1 <= num3 <= num2:\n",
    "    print(\"Sorted order:\", num1, num3, num2)\n",
    "elif num2 <= num1 <= num3:\n",
    "    print(\"Sorted order:\", num2, num1, num3)\n",
    "elif num2 <= num3 <= num1:\n",
    "    print(\"Sorted order:\", num2, num3, num1)\n",
    "elif num3 <= num1 <= num2:\n",
    "    print(\"Sorted order:\", num3, num1, num2)\n",
    "else:\n",
    "    print(\"Sorted order:\", num3, num2, num1)\n"
   ]
  },
  {
   "cell_type": "code",
   "execution_count": 31,
   "id": "a1b4950e-5b62-4f9a-876f-09320be32e17",
   "metadata": {},
   "outputs": [
    {
     "name": "stdin",
     "output_type": "stream",
     "text": [
      "Enter your height in meters:  5.3\n",
      "Enter your weight in kilograms:  67\n"
     ]
    },
    {
     "name": "stdout",
     "output_type": "stream",
     "text": [
      "Your BMI is: 2.385190459238163\n",
      "You are underweight. It is recommended to consult a healthcare professional.\n"
     ]
    }
   ],
   "source": [
    "#Calculate the BMI (Body Mass Index) and provide health recommendations:\n",
    "# Input height and weight from the user\n",
    "height = float(input(\"Enter your height in meters: \"))\n",
    "weight = float(input(\"Enter your weight in kilograms: \"))\n",
    "\n",
    "# Calculate BMI\n",
    "bmi = weight / (height ** 2)\n",
    "\n",
    "# Print BMI and health recommendations\n",
    "print(\"Your BMI is:\", bmi)\n",
    "\n",
    "if bmi < 18.5:\n",
    "    print(\"You are underweight. It is recommended to consult a healthcare professional.\")\n",
    "elif 18.5 <= bmi < 24.9:\n",
    "    print(\"Your weight is within the healthy range. Keep up the good work!\")\n",
    "elif 25 <= bmi < 29.9:\n",
    "    print(\"You are overweight. Consider maintaining a balanced diet and regular exercise.\")\n",
    "else:\n",
    "    print(\"You are obese. It is strongly recommended to consult a healthcare professional for guidance.\")\n",
    "\n"
   ]
  },
  {
   "cell_type": "code",
   "execution_count": null,
   "id": "113c77ef-44b8-4172-aa53-ee93b8f8c659",
   "metadata": {},
   "outputs": [],
   "source": [
    "#Validate a password based on complexity rules:\n",
    "import re\n",
    "\n",
    "password = input(\"Enter your password: \")\n",
    "\n",
    "# Define complexity rules\n",
    "length_rule = len(password) >= 8\n",
    "uppercase_rule = re.search(r'[A-Z]', password) is not None\n",
    "lowercase_rule = re.search(r'[a-z]', password) is not None\n",
    "digit_rule = re.search(r'[0-9]', password) is not None\n",
    "special_char_rule = re.search(r'[!@#$%^&*()_+{}\\[\\]:;<>,.?~\\\\]', password) is not None\n",
    "\n",
    "# Check if the password meets all complexity rules\n",
    "if length_rule and uppercase_rule and lowercase_rule and digit_rule and special_char_rule:\n",
    "    print(\"Password is valid.\")\n",
    "else:\n",
    "    print(\"Password does not meet complexity requirements.\")\n"
   ]
  },
  {
   "cell_type": "code",
   "execution_count": 2,
   "id": "65d22571-069e-44ba-be28-2cafd606a6c2",
   "metadata": {
    "jp-MarkdownHeadingCollapsed": true,
    "tags": []
   },
   "outputs": [
    {
     "name": "stdin",
     "output_type": "stream",
     "text": [
      "Enter the number of rows:  2\n",
      "Enter the number of columns:  2\n",
      "Enter element [1][1] of matrix 1:  2\n",
      "Enter element [1][2] of matrix 1:  4\n",
      "Enter element [2][1] of matrix 1:  6\n",
      "Enter element [2][2] of matrix 1:  5\n",
      "Enter element [1][1] of matrix 2:  6\n",
      "Enter element [1][2] of matrix 2:  3\n",
      "Enter element [2][1] of matrix 2:  3\n",
      "Enter element [2][2] of matrix 2:  2\n"
     ]
    },
    {
     "name": "stdout",
     "output_type": "stream",
     "text": [
      "Matrix 1:\n",
      "[[2. 4.]\n",
      " [6. 5.]]\n",
      "Matrix 2:\n",
      "[[6. 3.]\n",
      " [3. 2.]]\n",
      "Matrix Sum:\n",
      "[[8. 7.]\n",
      " [9. 7.]]\n",
      "Matrix Difference:\n",
      "[[-4.  1.]\n",
      " [ 3.  3.]]\n"
     ]
    }
   ],
   "source": [
    "#### Perform matrix addition and subtraction based on user input:\n",
    "import numpy as np\n",
    "\n",
    "# Input matrix dimensions\n",
    "rows = int(input(\"Enter the number of rows: \"))\n",
    "cols = int(input(\"Enter the number of columns: \"))\n",
    "\n",
    "# Input matrices\n",
    "matrix1 = np.array([[float(input(f\"Enter element [{i+1}][{j+1}] of matrix 1: \")) for j in range(cols)] for i in range(rows)])\n",
    "matrix2 = np.array([[float(input(f\"Enter element [{i+1}][{j+1}] of matrix 2: \")) for j in range(cols)] for i in range(rows)])\n",
    "\n",
    "# Perform addition and subtraction\n",
    "matrix_sum = matrix1 + matrix2\n",
    "matrix_diff = matrix1 - matrix2\n",
    "\n",
    "# Print results\n",
    "print(\"Matrix 1:\")\n",
    "print(matrix1)\n",
    "print(\"Matrix 2:\")\n",
    "print(matrix2)\n",
    "print(\"Matrix Sum:\")\n",
    "print(matrix_sum)\n",
    "print(\"Matrix Difference:\")\n",
    "print(matrix_diff)\n"
   ]
  },
  {
   "cell_type": "code",
   "execution_count": 3,
   "id": "2838eb32-936d-44f5-9f5d-8df5213690a0",
   "metadata": {},
   "outputs": [
    {
     "name": "stdin",
     "output_type": "stream",
     "text": [
      "Enter the first number:  23\n",
      "Enter the second number:  32\n"
     ]
    },
    {
     "name": "stdout",
     "output_type": "stream",
     "text": [
      "The GCD of 23 and 32 is 1.\n"
     ]
    }
   ],
   "source": [
    "#Calculate the greatest common divisor (GCD) of two numbers using the Euclidean algorithm:\n",
    "def gcd(a, b):\n",
    "    while b:\n",
    "        a, b = b, a % b\n",
    "    return a\n",
    "\n",
    "num1 = int(input(\"Enter the first number: \"))\n",
    "num2 = int(input(\"Enter the second number: \"))\n",
    "\n",
    "result = gcd(num1, num2)\n",
    "\n",
    "print(f\"The GCD of {num1} and {num2} is {result}.\")\n"
   ]
  },
  {
   "cell_type": "code",
   "execution_count": 6,
   "id": "3443933a-531a-4a86-9ac3-9a1b80d65c3c",
   "metadata": {},
   "outputs": [
    {
     "name": "stdin",
     "output_type": "stream",
     "text": [
      "Enter the number of rows for matrix 1:  2\n",
      "Enter the number of columns for matrix 1:  2\n",
      "Enter the number of rows for matrix 2:  1\n",
      "Enter the number of columns for matrix 2:  32\n"
     ]
    },
    {
     "name": "stdout",
     "output_type": "stream",
     "text": [
      "Matrix multiplication is not possible.\n"
     ]
    }
   ],
   "source": [
    "## Perform matrix multiplication using nested loops and conditional statements:\n",
    "# Input matrix dimensions\n",
    "rows1 = int(input(\"Enter the number of rows for matrix 1: \"))\n",
    "cols1 = int(input(\"Enter the number of columns for matrix 1: \"))\n",
    "rows2 = int(input(\"Enter the number of rows for matrix 2: \"))\n",
    "cols2 = int(input(\"Enter the number of columns for matrix 2: \"))\n",
    "\n",
    "# Check if matrices can be multiplied\n",
    "if cols1 != rows2:\n",
    "    print(\"Matrix multiplication is not possible.\")\n",
    "else:\n",
    "    # Input matrices\n",
    "    matrix1 = [[float(input(f\"Enter element [{i+1}][{j+1}] of matrix 1: \")) for j in range(cols1)] for i in range(rows1)]\n",
    "    matrix2 = [[float(input(f\"Enter element [{i+1}][{j+1}] of matrix 2: \")) for j in range(cols2)] for i in range(rows2)]\n",
    "\n",
    "    # Initialize the result matrix with zeros\n",
    "    result_matrix = [[0 for _ in range(cols2)] for _ in range(rows1)]\n",
    "\n",
    "    # Perform matrix multiplication\n",
    "    for i in range(rows1):\n",
    "        for j in range(cols2):\n",
    "            for k in range(cols1):\n",
    "                result_matrix[i][j] += matrix1[i][k] * matrix2[k][j]\n",
    "\n",
    "    # Print the result matrix\n",
    "    print(\"Result of matrix multiplication:\")\n",
    "    for row in result_matrix:\n",
    "        print(row)\n"
   ]
  },
  {
   "cell_type": "code",
   "execution_count": null,
   "id": "b049f2e4-f8b7-415a-8161-9d6bfc51190f",
   "metadata": {},
   "outputs": [],
   "source": []
  },
  {
   "cell_type": "code",
   "execution_count": 27,
   "id": "48e23566-4e79-4a2e-805d-7fc98d952ceb",
   "metadata": {},
   "outputs": [
    {
     "name": "stdout",
     "output_type": "stream",
     "text": [
      "Welcome to Tic-Tac-Toe!\n",
      "  |   |  \n",
      "---------\n",
      "  |   |  \n",
      "---------\n",
      "  |   |  \n",
      "---------\n",
      "Player X's turn:\n"
     ]
    },
    {
     "name": "stdin",
     "output_type": "stream",
     "text": [
      "Enter row and column (e.g., '1 2'):  2 1\n"
     ]
    },
    {
     "name": "stdout",
     "output_type": "stream",
     "text": [
      "  |   |  \n",
      "---------\n",
      "  |   |  \n",
      "---------\n",
      "  | X |  \n",
      "---------\n",
      "Player O's turn:\n",
      "  |   |  \n",
      "---------\n",
      "  |   |  \n",
      "---------\n",
      "  | X | O\n",
      "---------\n",
      "Player X's turn:\n"
     ]
    },
    {
     "name": "stdin",
     "output_type": "stream",
     "text": [
      "Enter row and column (e.g., '1 2'):  1 3\n"
     ]
    },
    {
     "ename": "IndexError",
     "evalue": "list assignment index out of range",
     "output_type": "error",
     "traceback": [
      "\u001b[0;31m---------------------------------------------------------------------------\u001b[0m",
      "\u001b[0;31mIndexError\u001b[0m                                Traceback (most recent call last)",
      "Cell \u001b[0;32mIn[27], line 62\u001b[0m\n\u001b[1;32m     59\u001b[0m \u001b[38;5;28;01melse\u001b[39;00m:\n\u001b[1;32m     60\u001b[0m     row, col \u001b[38;5;241m=\u001b[39m computer_move(board, \u001b[38;5;124m\"\u001b[39m\u001b[38;5;124mO\u001b[39m\u001b[38;5;124m\"\u001b[39m, \u001b[38;5;124m\"\u001b[39m\u001b[38;5;124mX\u001b[39m\u001b[38;5;124m\"\u001b[39m)\n\u001b[0;32m---> 62\u001b[0m \u001b[43mboard\u001b[49m\u001b[43m[\u001b[49m\u001b[43mrow\u001b[49m\u001b[43m]\u001b[49m\u001b[43m[\u001b[49m\u001b[43mcol\u001b[49m\u001b[43m]\u001b[49m \u001b[38;5;241m=\u001b[39m current_player\n\u001b[1;32m     63\u001b[0m print_board(board)\n\u001b[1;32m     65\u001b[0m \u001b[38;5;28;01mif\u001b[39;00m check_win(board, current_player):\n",
      "\u001b[0;31mIndexError\u001b[0m: list assignment index out of range"
     ]
    }
   ],
   "source": [
    "#Simulate a basic text-based tic-tac-toe game against the computer:\n",
    "import random\n",
    "\n",
    "def print_board(board):\n",
    "    for row in board:\n",
    "        print(\" | \".join(row))\n",
    "        print(\"-\" * 9)\n",
    "\n",
    "def check_win(board, player):\n",
    "    for row in board:\n",
    "        if all(cell == player for cell in row):\n",
    "            return True\n",
    "    for col in range(3):\n",
    "        if all(board[row][col] == player for row in range(3)):\n",
    "            return True\n",
    "    if all(board[i][i] == player for i in range(3)) or all(board[i][2 - i] == player for i in range(3)):\n",
    "        return True\n",
    "    return False\n",
    "\n",
    "def is_full(board):\n",
    "    return all(cell != \" \" for row in board for cell in row)\n",
    "\n",
    "def computer_move(board, computer, player):\n",
    "    for i in range(3):\n",
    "        for j in range(3):\n",
    "            if board[i][j] == \" \":\n",
    "                board[i][j] = computer\n",
    "                if check_win(board, computer):\n",
    "                    return i, j\n",
    "                board[i][j] = \" \"\n",
    "\n",
    "    for i in range(3):\n",
    "        for j in range(3):\n",
    "            if board[i][j] == \" \":\n",
    "                board[i][j] = player\n",
    "                if check_win(board, player):\n",
    "                    return i, j\n",
    "                board[i][j] = \" \"\n",
    "\n",
    "    while True:\n",
    "        i, j = random.randint(0, 2), random.randint(0, 2)\n",
    "        if board[i][j] == \" \":\n",
    "            return i, j\n",
    "\n",
    "board = [[\" \" for _ in range(3)] for _ in range(3)]\n",
    "players = [\"X\", \"O\"]\n",
    "random.shuffle(players)\n",
    "current_player = players[0]\n",
    "\n",
    "print(\"Welcome to Tic-Tac-Toe!\")\n",
    "print_board(board)\n",
    "\n",
    "while True:\n",
    "    print(f\"Player {current_player}'s turn:\")\n",
    "    if current_player == \"X\":\n",
    "        row, col = map(int, input(\"Enter row and column (e.g., '1 2'): \").split())\n",
    "        if board[row - 1][col - 1] != \" \":\n",
    "            print(\"Invalid move. Try again.\")\n",
    "            continue\n",
    "    else:\n",
    "        row, col = computer_move(board, \"O\", \"X\")\n",
    "\n",
    "    board[row][col] = current_player\n",
    "    print_board(board)\n",
    "\n",
    "    if check_win(board, current_player):\n",
    "        print(f\"Player {current_player} wins!\")\n",
    "        break\n",
    "\n",
    "    if is_full(board):\n",
    "        print(\"It's a draw!\")\n",
    "        break\n",
    "\n",
    "    current_player = \"X\" if current_player == \"O\" else \"O\"\n",
    "\n",
    "    "
   ]
  },
  {
   "cell_type": "code",
   "execution_count": 28,
   "id": "2a0b57ba-d260-4e05-a436-68a2f268c439",
   "metadata": {},
   "outputs": [
    {
     "name": "stdin",
     "output_type": "stream",
     "text": [
      "Enter the number of terms for the Fibonacci sequence:  2\n"
     ]
    },
    {
     "name": "stdout",
     "output_type": "stream",
     "text": [
      "Fibonacci sequence:\n",
      "[0, 1]\n"
     ]
    }
   ],
   "source": [
    "#Generate Fibonacci numbers up to a specified term using iterative methods:\n",
    "def generate_fibonacci(n):\n",
    "    fibonacci_sequence = [0, 1]\n",
    "    while len(fibonacci_sequence) < n:\n",
    "        next_number = fibonacci_sequence[-1] + fibonacci_sequence[-2]\n",
    "        fibonacci_sequence.append(next_number)\n",
    "    return fibonacci_sequence\n",
    "\n",
    "n = int(input(\"Enter the number of terms for the Fibonacci sequence: \"))\n",
    "fibonacci_numbers = generate_fibonacci(n)\n",
    "print(\"Fibonacci sequence:\")\n",
    "print(fibonacci_numbers)\n"
   ]
  },
  {
   "cell_type": "code",
   "execution_count": 30,
   "id": "2ea70edb-c774-439c-a464-4e70e5f65a3f",
   "metadata": {},
   "outputs": [
    {
     "name": "stdin",
     "output_type": "stream",
     "text": [
      "Enter the value of n for the nth Fibonacci term:  3\n"
     ]
    },
    {
     "name": "stdout",
     "output_type": "stream",
     "text": [
      "The 3th Fibonacci term is 2.\n"
     ]
    }
   ],
   "source": [
    "#Calculate the nth term of the Fibonacci sequence using memoization:\n",
    "def fibonacci(n, memo={}):\n",
    "    if n in memo:\n",
    "        return memo[n]\n",
    "    if n <= 1:\n",
    "        return n\n",
    "    memo[n] = fibonacci(n - 1, memo) + fibonacci(n - 2, memo)\n",
    "    return memo[n]\n",
    "\n",
    "n = int(input(\"Enter the value of n for the nth Fibonacci term: \"))\n",
    "result = fibonacci(n)\n",
    "print(f\"The {n}th Fibonacci term is {result}.\")\n"
   ]
  },
  {
   "cell_type": "code",
   "execution_count": 31,
   "id": "5b908f44-c53d-480f-85d9-b94c24e32538",
   "metadata": {},
   "outputs": [
    {
     "name": "stdin",
     "output_type": "stream",
     "text": [
      "Enter a year:  2043\n",
      "Enter a month (1-12):  5\n"
     ]
    },
    {
     "name": "stdout",
     "output_type": "stream",
     "text": [
      "Calendar:\n",
      "      May 2043\n",
      "Mo Tu We Th Fr Sa Su\n",
      "             1  2  3\n",
      " 4  5  6  7  8  9 10\n",
      "11 12 13 14 15 16 17\n",
      "18 19 20 21 22 23 24\n",
      "25 26 27 28 29 30 31\n",
      "\n"
     ]
    }
   ],
   "source": [
    "#Generate a calendar for a given month and year using conditional statements:\n",
    "import calendar\n",
    "\n",
    "year = int(input(\"Enter a year: \"))\n",
    "month = int(input(\"Enter a month (1-12): \"))\n",
    "\n",
    "cal = calendar.month(year, month)\n",
    "print(\"Calendar:\")\n",
    "print(cal)\n"
   ]
  },
  {
   "cell_type": "code",
   "execution_count": 32,
   "id": "4c7bc02d-aa1d-407e-aaab-0ca9499c982e",
   "metadata": {},
   "outputs": [
    {
     "name": "stdout",
     "output_type": "stream",
     "text": [
      "Welcome to Blackjack!\n",
      "Your cards: [1, 5], current score: 6\n",
      "Computer's first card: 3\n"
     ]
    },
    {
     "name": "stdin",
     "output_type": "stream",
     "text": [
      "Type 'y' to get another card, 'n' to pass:  y\n"
     ]
    },
    {
     "name": "stdout",
     "output_type": "stream",
     "text": [
      "Your cards: [1, 5, 4], current score: 10\n",
      "Computer's first card: 3\n"
     ]
    },
    {
     "name": "stdin",
     "output_type": "stream",
     "text": [
      "Type 'y' to get another card, 'n' to pass:  n\n"
     ]
    },
    {
     "name": "stdout",
     "output_type": "stream",
     "text": [
      "Your final hand: [1, 5, 4], final score: 10\n",
      "Computer's final hand: [3, 2, 8, 1, 9], final score: 23\n",
      "Computer went over. You win!\n"
     ]
    }
   ],
   "source": [
    "#Simulate a basic text-based blackjack game against the computer:\n",
    "import random\n",
    "\n",
    "def deal_card():\n",
    "    return random.randint(1, 11)\n",
    "\n",
    "def calculate_score(cards):\n",
    "    if sum(cards) == 21 and len(cards) == 2:\n",
    "        return 0\n",
    "    if 11 in cards and sum(cards) > 21:\n",
    "        cards.remove(11)\n",
    "        cards.append(1)\n",
    "    return sum(cards)\n",
    "\n",
    "def blackjack():\n",
    "    user_cards = [deal_card(), deal_card()]\n",
    "    computer_cards = [deal_card(), deal_card()]\n",
    "    is_game_over = False\n",
    "\n",
    "    while not is_game_over:\n",
    "        user_score = calculate_score(user_cards)\n",
    "        computer_score = calculate_score(computer_cards)\n",
    "\n",
    "        print(f\"Your cards: {user_cards}, current score: {user_score}\")\n",
    "        print(f\"Computer's first card: {computer_cards[0]}\")\n",
    "\n",
    "        if user_score == 0 or computer_score == 0 or user_score > 21:\n",
    "            is_game_over = True\n",
    "        else:\n",
    "            should_continue = input(\"Type 'y' to get another card, 'n' to pass: \")\n",
    "            if should_continue == 'y':\n",
    "                user_cards.append(deal_card())\n",
    "            else:\n",
    "                is_game_over = True\n",
    "\n",
    "    while computer_score != 0 and computer_score < 17:\n",
    "        computer_cards.append(deal_card())\n",
    "        computer_score = calculate_score(computer_cards)\n",
    "\n",
    "    print(f\"Your final hand: {user_cards}, final score: {user_score}\")\n",
    "    print(f\"Computer's final hand: {computer_cards}, final score: {computer_score}\")\n",
    "\n",
    "    if user_score > 21:\n",
    "        return \"You went over. You lose!\"\n",
    "    elif computer_score > 21:\n",
    "        return \"Computer went over. You win!\"\n",
    "    elif user_score == computer_score:\n",
    "        return \"It's a draw!\"\n",
    "    elif user_score == 0 or (user_score > computer_score and user_score <= 21):\n",
    "        return \"You win!\"\n",
    "    else:\n",
    "        return \"Computer wins!\"\n",
    "\n",
    "print(\"Welcome to Blackjack!\")\n",
    "print(blackjack())\n"
   ]
  },
  {
   "cell_type": "code",
   "execution_count": 33,
   "id": "c6afa311-db23-4e9e-a796-fcf3f93d767b",
   "metadata": {},
   "outputs": [
    {
     "name": "stdin",
     "output_type": "stream",
     "text": [
      "Enter a number to find its prime factors:  43\n"
     ]
    },
    {
     "name": "stdout",
     "output_type": "stream",
     "text": [
      "Prime factors of 43: [43]\n"
     ]
    }
   ],
   "source": [
    "# Generate the prime factors of a given number using trial division:\n",
    "def prime_factors(n):\n",
    "    factors = []\n",
    "    divisor = 2\n",
    "    while divisor <= n:\n",
    "        if n % divisor == 0:\n",
    "            factors.append(divisor)\n",
    "            n //= divisor\n",
    "        else:\n",
    "            divisor += 1\n",
    "    return factors\n",
    "\n",
    "num = int(input(\"Enter a number to find its prime factors: \"))\n",
    "factors = prime_factors(num)\n",
    "print(f\"Prime factors of {num}: {factors}\")\n"
   ]
  },
  {
   "cell_type": "code",
   "execution_count": null,
   "id": "a005535e-5a5f-49af-ae5d-f4910d2a8cf0",
   "metadata": {},
   "outputs": [],
   "source": []
  }
 ],
 "metadata": {
  "kernelspec": {
   "display_name": "Python 3 (ipykernel)",
   "language": "python",
   "name": "python3"
  },
  "language_info": {
   "codemirror_mode": {
    "name": "ipython",
    "version": 3
   },
   "file_extension": ".py",
   "mimetype": "text/x-python",
   "name": "python",
   "nbconvert_exporter": "python",
   "pygments_lexer": "ipython3",
   "version": "3.10.8"
  }
 },
 "nbformat": 4,
 "nbformat_minor": 5
}
